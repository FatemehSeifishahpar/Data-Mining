{
 "cells": [
  {
   "cell_type": "code",
   "execution_count": 2,
   "metadata": {},
   "outputs": [],
   "source": [
    "import pandas as pd\n",
    "import numpy as np\n",
    "from sklearn.model_selection import train_test_split\n",
    "import matplotlib.pyplot as plt\n",
    "import seaborn as sns\n",
    "from sklearn.preprocessing import MinMaxScaler,StandardScaler\n",
    "from sklearn.neural_network import MLPClassifier\n",
    "from sklearn.metrics import accuracy_score,confusion_matrix,precision_recall_fscore_support,plot_confusion_matrix\n",
    "from sklearn.model_selection import GridSearchCV"
   ]
  },
  {
   "cell_type": "code",
   "execution_count": 3,
   "metadata": {},
   "outputs": [],
   "source": [
    "colors = sns.color_palette('pastel')[0:5]"
   ]
  },
  {
   "cell_type": "markdown",
   "metadata": {},
   "source": [
    "### Reading Data"
   ]
  },
  {
   "cell_type": "code",
   "execution_count": 4,
   "metadata": {},
   "outputs": [],
   "source": [
    "df= pd.read_csv('cleaned_processed.cleveland.data', header = None ,\n",
    "                names= ['age','sex','cp','trestbps','chol','fbs','restecg','thalach','exang','oldpeak','slope','ca','thal','target'])"
   ]
  },
  {
   "cell_type": "code",
   "execution_count": 5,
   "metadata": {},
   "outputs": [
    {
     "data": {
      "text/html": [
       "<div>\n",
       "<style scoped>\n",
       "    .dataframe tbody tr th:only-of-type {\n",
       "        vertical-align: middle;\n",
       "    }\n",
       "\n",
       "    .dataframe tbody tr th {\n",
       "        vertical-align: top;\n",
       "    }\n",
       "\n",
       "    .dataframe thead th {\n",
       "        text-align: right;\n",
       "    }\n",
       "</style>\n",
       "<table border=\"1\" class=\"dataframe\">\n",
       "  <thead>\n",
       "    <tr style=\"text-align: right;\">\n",
       "      <th></th>\n",
       "      <th>age</th>\n",
       "      <th>sex</th>\n",
       "      <th>cp</th>\n",
       "      <th>trestbps</th>\n",
       "      <th>chol</th>\n",
       "      <th>fbs</th>\n",
       "      <th>restecg</th>\n",
       "      <th>thalach</th>\n",
       "      <th>exang</th>\n",
       "      <th>oldpeak</th>\n",
       "      <th>slope</th>\n",
       "      <th>ca</th>\n",
       "      <th>thal</th>\n",
       "      <th>target</th>\n",
       "    </tr>\n",
       "  </thead>\n",
       "  <tbody>\n",
       "    <tr>\n",
       "      <th>0</th>\n",
       "      <td>63.0</td>\n",
       "      <td>1.0</td>\n",
       "      <td>1.0</td>\n",
       "      <td>145.0</td>\n",
       "      <td>233.0</td>\n",
       "      <td>1.0</td>\n",
       "      <td>2.0</td>\n",
       "      <td>150.0</td>\n",
       "      <td>0.0</td>\n",
       "      <td>2.3</td>\n",
       "      <td>3.0</td>\n",
       "      <td>0.0</td>\n",
       "      <td>6.0</td>\n",
       "      <td>0</td>\n",
       "    </tr>\n",
       "    <tr>\n",
       "      <th>1</th>\n",
       "      <td>67.0</td>\n",
       "      <td>1.0</td>\n",
       "      <td>4.0</td>\n",
       "      <td>160.0</td>\n",
       "      <td>286.0</td>\n",
       "      <td>0.0</td>\n",
       "      <td>2.0</td>\n",
       "      <td>108.0</td>\n",
       "      <td>1.0</td>\n",
       "      <td>1.5</td>\n",
       "      <td>2.0</td>\n",
       "      <td>3.0</td>\n",
       "      <td>3.0</td>\n",
       "      <td>1</td>\n",
       "    </tr>\n",
       "    <tr>\n",
       "      <th>2</th>\n",
       "      <td>67.0</td>\n",
       "      <td>1.0</td>\n",
       "      <td>4.0</td>\n",
       "      <td>120.0</td>\n",
       "      <td>229.0</td>\n",
       "      <td>0.0</td>\n",
       "      <td>2.0</td>\n",
       "      <td>129.0</td>\n",
       "      <td>1.0</td>\n",
       "      <td>2.6</td>\n",
       "      <td>2.0</td>\n",
       "      <td>2.0</td>\n",
       "      <td>7.0</td>\n",
       "      <td>1</td>\n",
       "    </tr>\n",
       "    <tr>\n",
       "      <th>3</th>\n",
       "      <td>37.0</td>\n",
       "      <td>1.0</td>\n",
       "      <td>3.0</td>\n",
       "      <td>130.0</td>\n",
       "      <td>250.0</td>\n",
       "      <td>0.0</td>\n",
       "      <td>0.0</td>\n",
       "      <td>187.0</td>\n",
       "      <td>0.0</td>\n",
       "      <td>3.5</td>\n",
       "      <td>3.0</td>\n",
       "      <td>0.0</td>\n",
       "      <td>3.0</td>\n",
       "      <td>0</td>\n",
       "    </tr>\n",
       "    <tr>\n",
       "      <th>4</th>\n",
       "      <td>41.0</td>\n",
       "      <td>0.0</td>\n",
       "      <td>2.0</td>\n",
       "      <td>130.0</td>\n",
       "      <td>204.0</td>\n",
       "      <td>0.0</td>\n",
       "      <td>2.0</td>\n",
       "      <td>172.0</td>\n",
       "      <td>0.0</td>\n",
       "      <td>1.4</td>\n",
       "      <td>1.0</td>\n",
       "      <td>0.0</td>\n",
       "      <td>3.0</td>\n",
       "      <td>0</td>\n",
       "    </tr>\n",
       "  </tbody>\n",
       "</table>\n",
       "</div>"
      ],
      "text/plain": [
       "    age  sex   cp  trestbps   chol  fbs  restecg  thalach  exang  oldpeak  \\\n",
       "0  63.0  1.0  1.0     145.0  233.0  1.0      2.0    150.0    0.0      2.3   \n",
       "1  67.0  1.0  4.0     160.0  286.0  0.0      2.0    108.0    1.0      1.5   \n",
       "2  67.0  1.0  4.0     120.0  229.0  0.0      2.0    129.0    1.0      2.6   \n",
       "3  37.0  1.0  3.0     130.0  250.0  0.0      0.0    187.0    0.0      3.5   \n",
       "4  41.0  0.0  2.0     130.0  204.0  0.0      2.0    172.0    0.0      1.4   \n",
       "\n",
       "   slope   ca  thal  target  \n",
       "0    3.0  0.0   6.0       0  \n",
       "1    2.0  3.0   3.0       1  \n",
       "2    2.0  2.0   7.0       1  \n",
       "3    3.0  0.0   3.0       0  \n",
       "4    1.0  0.0   3.0       0  "
      ]
     },
     "execution_count": 5,
     "metadata": {},
     "output_type": "execute_result"
    }
   ],
   "source": [
    "df.head(5)"
   ]
  },
  {
   "cell_type": "markdown",
   "metadata": {},
   "source": [
    "### Splitting Data to Train and Test set\n",
    "\n",
    "To evaluate the model, it is necessary to have two distinct set called **Train set** and **Test Set**. Here I've used ```train_test_split``` function from Sklearn library to split dataset to two set. 80% of samples are going to be used in training phase and 20% of sample will be used for evaluating models. "
   ]
  },
  {
   "cell_type": "code",
   "execution_count": 32,
   "metadata": {},
   "outputs": [],
   "source": [
    "X_train, X_test, y_train, y_test = train_test_split(df.iloc[:,:-1], df.iloc[:,-1], test_size=0.2, random_state=42)"
   ]
  },
  {
   "cell_type": "markdown",
   "metadata": {},
   "source": [
    "#####  What percentage of the people has heart disease in train and test set\n",
    "\n",
    "It is always valuable to see weather the classes are balanced or not. Many of machine learning algorithms do not perform well  If the number of samples in different classes are not comparable."
   ]
  },
  {
   "cell_type": "code",
   "execution_count": 33,
   "metadata": {},
   "outputs": [
    {
     "data": {
      "image/png": "[encoded data removed]",
      "text/plain": [
       "<Figure size 720x576 with 2 Axes>"
      ]
     },
     "metadata": {},
     "output_type": "display_data"
    }
   ],
   "source": [
    "fig, axs=plt.subplots(nrows=1, ncols =2, figsize= (10,8))\n",
    "axs[0].pie(y_train.value_counts(), labels = [\"Negative\", \"Positive\"], colors = colors, autopct='%.0f%%')\n",
    "axs[1].pie(y_test.value_counts(), labels = [\"Negative\", \"Positive\"], colors = colors, autopct='%.0f%%')\n",
    "axs[0].set_title('Train Set')\n",
    "axs[1].set_title('Test Set')\n",
    "plt.show()"
   ]
  },
  {
   "cell_type": "markdown",
   "metadata": {},
   "source": [
    "The above pie chart shows us that the problem is a balanced classfification problem because there is no a huge difference between the number of sample in each classes "
   ]
  },
  {
   "cell_type": "markdown",
   "metadata": {},
   "source": [
    "However the given dataset is clean and dose not need any cleaning process, but to make sure that there is no Null-value in dataset we can double check ```df.info()```    "
   ]
  },
  {
   "cell_type": "code",
   "execution_count": 34,
   "metadata": {},
   "outputs": [
    {
     "name": "stdout",
     "output_type": "stream",
     "text": [
      "<class 'pandas.core.frame.DataFrame'>\n",
      "RangeIndex: 297 entries, 0 to 296\n",
      "Data columns (total 14 columns):\n",
      " #   Column    Non-Null Count  Dtype  \n",
      "---  ------    --------------  -----  \n",
      " 0   age       297 non-null    float64\n",
      " 1   sex       297 non-null    float64\n",
      " 2   cp        297 non-null    float64\n",
      " 3   trestbps  297 non-null    float64\n",
      " 4   chol      297 non-null    float64\n",
      " 5   fbs       297 non-null    float64\n",
      " 6   restecg   297 non-null    float64\n",
      " 7   thalach   297 non-null    float64\n",
      " 8   exang     297 non-null    float64\n",
      " 9   oldpeak   297 non-null    float64\n",
      " 10  slope     297 non-null    float64\n",
      " 11  ca        297 non-null    float64\n",
      " 12  thal      297 non-null    float64\n",
      " 13  target    297 non-null    int64  \n",
      "dtypes: float64(13), int64(1)\n",
      "memory usage: 32.6 KB\n"
     ]
    }
   ],
   "source": [
    "df.info()"
   ]
  },
  {
   "cell_type": "markdown",
   "metadata": {},
   "source": [
    "Sometimes it is noteworthy to ask some question and investigate the data to have a better understanding of it. for example what is the percentage of women and men with and without disease"
   ]
  },
  {
   "cell_type": "code",
   "execution_count": 10,
   "metadata": {},
   "outputs": [
    {
     "data": {
      "image/png": "[encoded data removed]",
      "text/plain": [
       "<Figure size 432x288 with 1 Axes>"
      ]
     },
     "metadata": {},
     "output_type": "display_data"
    }
   ],
   "source": [
    "df.groupby(by=['sex','target']).target.count().plot.pie(autopct='%.0f%%', labels = ['Sex_0,Target_0','Sex_0,Target_1','Sex_1,Target_0','Sex_1,Target_1'])\n",
    "plt.show()"
   ]
  },
  {
   "cell_type": "code",
   "execution_count": null,
   "metadata": {},
   "outputs": [],
   "source": [
    "Many mochine learning model "
   ]
  },
  {
   "cell_type": "code",
   "execution_count": 11,
   "metadata": {},
   "outputs": [
    {
     "data": {
      "image/png": "[encoded data removed]",
      "text/plain": [
       "<Figure size 720x720 with 16 Axes>"
      ]
     },
     "metadata": {
      "needs_background": "light"
     },
     "output_type": "display_data"
    }
   ],
   "source": [
    "fig , axs = plt.subplots(nrows=4,ncols=4,figsize =(10,10))\n",
    "plt.subplots_adjust(wspace=.3,hspace=0.4)\n",
    "axs = axs.ravel()\n",
    "\n",
    "for idx_col , col in enumerate(df.columns[:-1]):\n",
    "    axs[idx_col].hist(X_train.iloc[:,idx_col])\n",
    "    axs[idx_col].set_title(col)\n",
    "        \n",
    "axs[14].axis('off')\n",
    "axs[15].axis('off')\n",
    "    \n",
    "plt.show()"
   ]
  },
  {
   "cell_type": "markdown",
   "metadata": {},
   "source": [
    "It can be seen that data Distribution is totaly different for different features . So we need some sort of normalization to have all features in the same range. We have two options for Normalization:\n",
    "\n",
    "- __MinMax Normalization__ is one of the most common ways to normalize data. For every feature, the minimum value of that featur is transformed into 0 and the maximum value will be mapped into 1, and every other value gets transformed into a decimal between 0 and 1.\n",
    "\n",
    "- __Standard Normalization__ which map data point to a normal distribution with mean zero and dtandard deviation 1\n",
    "\n",
    "Here I've used both of them and compared the result. "
   ]
  },
  {
   "cell_type": "markdown",
   "metadata": {},
   "source": [
    "### Data Preprocessing"
   ]
  },
  {
   "cell_type": "code",
   "execution_count": 12,
   "metadata": {},
   "outputs": [],
   "source": [
    "def scaler(X_train , X_test , t):\n",
    "    if t == 'MinMax':\n",
    "        minmax = MinMaxScaler()\n",
    "        X_train = minmax.fit_transform(X_train)\n",
    "        X_test = minmax.transform(X_test)\n",
    "    elif t == 'StandardScaler':\n",
    "        sdscaler= StandardScaler()\n",
    "        X_train = sdscaler.fit_transform(X_train)\n",
    "        X_test = sdscaler.transform(X_test)\n",
    "    else:\n",
    "        raise ValueError('invalid value for \"t\", should be either \"MinMax\" or \"StandardScaler\" ')\n",
    "    return X_train,X_test"
   ]
  },
  {
   "cell_type": "code",
   "execution_count": 13,
   "metadata": {},
   "outputs": [],
   "source": [
    "X_train,X_test  = scaler(X_train , X_test , 'MinMax')"
   ]
  },
  {
   "cell_type": "code",
   "execution_count": 14,
   "metadata": {},
   "outputs": [
    {
     "data": {
      "image/png": "[encoded data removed]",
      "text/plain": [
       "<Figure size 720x720 with 16 Axes>"
      ]
     },
     "metadata": {
      "needs_background": "light"
     },
     "output_type": "display_data"
    }
   ],
   "source": [
    "fig , axs = plt.subplots(nrows=4,ncols=4,figsize =(10,10))\n",
    "plt.subplots_adjust(wspace=.3,hspace=0.4)\n",
    "axs = axs.ravel()\n",
    "\n",
    "for idx_col , col in enumerate(df.columns[:-1]):\n",
    "    axs[idx_col].hist(X_train[:,idx_col])\n",
    "    axs[idx_col].set_title(col)\n",
    "    \n",
    "axs[13].axis('off')\n",
    "axs[14].axis('off')\n",
    "axs[15].axis('off')\n",
    "    \n",
    "plt.show()"
   ]
  },
  {
   "cell_type": "code",
   "execution_count": 16,
   "metadata": {},
   "outputs": [
    {
     "data": {
      "text/plain": [
       "GridSearchCV(estimator=MLPClassifier(), n_jobs=-1,\n",
       "             param_grid={'activation': ['relu', 'logistic'],\n",
       "                         'alpha': [0, 0.1, 0.001],\n",
       "                         'hidden_layer_sizes': [10, 20, 30],\n",
       "                         'learning_rate_init': [0.1, 0.01, 0.001],\n",
       "                         'solver': ['sgd', 'adam']})"
      ]
     },
     "execution_count": 16,
     "metadata": {},
     "output_type": "execute_result"
    }
   ],
   "source": [
    "lr_set =[0.1, .01, .001]\n",
    "optim_set = ['sgd', 'adam']\n",
    "hidden_set =[10, 20, 30]\n",
    "activ_set = ['relu', 'logistic']\n",
    "reg_set =[0, 0.1, 0.001]\n",
    "\n",
    "mlp = MLPClassifier()\n",
    "grid = GridSearchCV(mlp, param_grid={\n",
    "                        'hidden_layer_sizes' : hidden_set,\n",
    "                        'activation': activ_set,\n",
    "                        'solver':optim_set,\n",
    "                        'alpha':reg_set,\n",
    "                        'learning_rate_init' : lr_set} , n_jobs = -1)\n",
    "\n",
    "grid.fit(X_train, y_train)"
   ]
  },
  {
   "cell_type": "code",
   "execution_count": 28,
   "metadata": {},
   "outputs": [
    {
     "name": "stdout",
     "output_type": "stream",
     "text": [
      "Best Parameters for MLP\n",
      "==============================\n",
      "activation:logistic\n",
      "alpha:0.001\n",
      "hidden_layer_sizes:30\n",
      "learning_rate_init:0.01\n",
      "solver:adam\n"
     ]
    }
   ],
   "source": [
    "print('Best Parameters for MLP')\n",
    "print('='*30)\n",
    "print('\\n'.join([f'{key}:{val}' for key, val in grid.best_params_.items()]))"
   ]
  },
  {
   "cell_type": "code",
   "execution_count": 31,
   "metadata": {},
   "outputs": [
    {
     "name": "stdout",
     "output_type": "stream",
     "text": [
      "Best Parameters for MLP\n",
      "==============================\n",
      "Accuracy on test data: 0.85\n",
      "Accuracy on train data: 0.85\n"
     ]
    }
   ],
   "source": [
    "best_model = grid.best_estimator_\n",
    "test_predicted = best_model.predict(X_test)\n",
    "\n",
    "train_acc = accuracy_score(y_train, grid.predict(X_train))\n",
    "test_acc = accuracy_score(y_test, grid.predict(X_test))\n",
    "\n",
    "print('Best Parameters for MLP')\n",
    "print('='*30)\n",
    "print(f'Accuracy on test data: {test_acc:.2f}')\n",
    "print(f'Accuracy on train data: {train_acc:.2f}')"
   ]
  },
  {
   "cell_type": "code",
   "execution_count": 136,
   "metadata": {},
   "outputs": [
    {
     "data": {
      "image/png": "[encoded data removed]",
      "text/plain": [
       "<Figure size 432x288 with 2 Axes>"
      ]
     },
     "metadata": {
      "needs_background": "light"
     },
     "output_type": "display_data"
    }
   ],
   "source": [
    "plot_confusion_matrix(best_model, X_test,y_test)\n",
    "plt.show()"
   ]
  },
  {
   "cell_type": "markdown",
   "metadata": {},
   "source": [
    "# Decision Tree\n"
   ]
  },
  {
   "cell_type": "code",
   "execution_count": 11,
   "metadata": {},
   "outputs": [],
   "source": [
    "from sklearn.tree import DecisionTreeClassifier\n"
   ]
  },
  {
   "cell_type": "code",
   "execution_count": 13,
   "metadata": {},
   "outputs": [
    {
     "data": {
      "text/plain": [
       "DecisionTreeClassifier(random_state=1)"
      ]
     },
     "execution_count": 13,
     "metadata": {},
     "output_type": "execute_result"
    }
   ],
   "source": [
    "tree = DecisionTreeClassifier(random_state=1)\n",
    "tree.fit(X_train, y_train)"
   ]
  },
  {
   "cell_type": "code",
   "execution_count": 15,
   "metadata": {},
   "outputs": [],
   "source": [
    "predicted_train = tree.predict(X_train)\n",
    "predicted_test = tree.predict(X_test)\n",
    "test_acc = accuracy_score(predicted_test, y_test)\n",
    "train_acc = accuracy_score(predicted_train, y_train)"
   ]
  },
  {
   "cell_type": "code",
   "execution_count": 18,
   "metadata": {},
   "outputs": [
    {
     "name": "stdout",
     "output_type": "stream",
     "text": [
      "Accuracy on test data: 0.75\n",
      "Accuracy on train data: 1.0\n"
     ]
    }
   ],
   "source": [
    "print(f'Accuracy on test data: {test_acc}')\n",
    "print(f'Accuracy on train data: {train_acc}')"
   ]
  },
  {
   "cell_type": "markdown",
   "metadata": {},
   "source": [
    "> As the Decision Tree doesn’t perform any pruning by default, it allows the tree to grow as much as it can. Here we got 0.75 and 1 on the test and train part respectively and this means that the model is probabely Overfitted and has memorized the train data. so it's not able to perform equally well on the test data."
   ]
  },
  {
   "cell_type": "markdown",
   "metadata": {},
   "source": [
    "# Prunning the tree"
   ]
  },
  {
   "cell_type": "code",
   "execution_count": 52,
   "metadata": {},
   "outputs": [],
   "source": [
    "path = tree.cost_complexity_pruning_path(X_train, y_train)\n",
    "alphas = path['ccp_alphas']\n",
    "\n",
    "accuracy_history=pd.DataFrame({'tree':[],'alpha':[], 'train_acc':[], 'test_acc':[]})\n",
    "\n",
    "for alpha in alphas:\n",
    "    tree = DecisionTreeClassifier(ccp_alpha=alpha)\n",
    "    tree.fit(X_train, y_train)\n",
    "    pred_train = tree.predict(X_train)\n",
    "    pred_test = tree.predict(X_test)\n",
    "    acc_train = accuracy_score(pred_train, y_train)\n",
    "    acc_test = accuracy_score(pred_test, y_test)\n",
    "    \n",
    "    \n",
    "    accuracy_history= accuracy_history.append({'tree':tree, 'alpha': alpha, 'train_acc':acc_train,'test_acc':acc_test},ignore_index=True)"
   ]
  },
  {
   "cell_type": "code",
   "execution_count": 53,
   "metadata": {},
   "outputs": [
    {
     "data": {
      "text/html": [
       "<div>\n",
       "<style scoped>\n",
       "    .dataframe tbody tr th:only-of-type {\n",
       "        vertical-align: middle;\n",
       "    }\n",
       "\n",
       "    .dataframe tbody tr th {\n",
       "        vertical-align: top;\n",
       "    }\n",
       "\n",
       "    .dataframe thead th {\n",
       "        text-align: right;\n",
       "    }\n",
       "</style>\n",
       "<table border=\"1\" class=\"dataframe\">\n",
       "  <thead>\n",
       "    <tr style=\"text-align: right;\">\n",
       "      <th></th>\n",
       "      <th>tree</th>\n",
       "      <th>alpha</th>\n",
       "      <th>train_acc</th>\n",
       "      <th>test_acc</th>\n",
       "    </tr>\n",
       "  </thead>\n",
       "  <tbody>\n",
       "    <tr>\n",
       "      <th>0</th>\n",
       "      <td>DecisionTreeClassifier()</td>\n",
       "      <td>0.000000</td>\n",
       "      <td>1.000000</td>\n",
       "      <td>0.816667</td>\n",
       "    </tr>\n",
       "    <tr>\n",
       "      <th>1</th>\n",
       "      <td>DecisionTreeClassifier(ccp_alpha=0.00276605719...</td>\n",
       "      <td>0.002766</td>\n",
       "      <td>0.995781</td>\n",
       "      <td>0.783333</td>\n",
       "    </tr>\n",
       "    <tr>\n",
       "      <th>2</th>\n",
       "      <td>DecisionTreeClassifier(ccp_alpha=0.00361663652...</td>\n",
       "      <td>0.003617</td>\n",
       "      <td>0.987342</td>\n",
       "      <td>0.766667</td>\n",
       "    </tr>\n",
       "    <tr>\n",
       "      <th>3</th>\n",
       "      <td>DecisionTreeClassifier(ccp_alpha=0.00389483933...</td>\n",
       "      <td>0.003895</td>\n",
       "      <td>0.978903</td>\n",
       "      <td>0.783333</td>\n",
       "    </tr>\n",
       "    <tr>\n",
       "      <th>4</th>\n",
       "      <td>DecisionTreeClassifier(ccp_alpha=0.00401751281...</td>\n",
       "      <td>0.004018</td>\n",
       "      <td>0.978903</td>\n",
       "      <td>0.833333</td>\n",
       "    </tr>\n",
       "    <tr>\n",
       "      <th>5</th>\n",
       "      <td>DecisionTreeClassifier(ccp_alpha=0.00543834974...</td>\n",
       "      <td>0.005438</td>\n",
       "      <td>0.970464</td>\n",
       "      <td>0.816667</td>\n",
       "    </tr>\n",
       "    <tr>\n",
       "      <th>6</th>\n",
       "      <td>DecisionTreeClassifier(ccp_alpha=0.00562587904...</td>\n",
       "      <td>0.005626</td>\n",
       "      <td>0.936709</td>\n",
       "      <td>0.816667</td>\n",
       "    </tr>\n",
       "    <tr>\n",
       "      <th>7</th>\n",
       "      <td>DecisionTreeClassifier(ccp_alpha=0.00562587904...</td>\n",
       "      <td>0.005626</td>\n",
       "      <td>0.936709</td>\n",
       "      <td>0.816667</td>\n",
       "    </tr>\n",
       "    <tr>\n",
       "      <th>8</th>\n",
       "      <td>DecisionTreeClassifier(ccp_alpha=0.00562587904...</td>\n",
       "      <td>0.005626</td>\n",
       "      <td>0.919831</td>\n",
       "      <td>0.800000</td>\n",
       "    </tr>\n",
       "    <tr>\n",
       "      <th>9</th>\n",
       "      <td>DecisionTreeClassifier(ccp_alpha=0.00562587904...</td>\n",
       "      <td>0.005626</td>\n",
       "      <td>0.919831</td>\n",
       "      <td>0.800000</td>\n",
       "    </tr>\n",
       "    <tr>\n",
       "      <th>10</th>\n",
       "      <td>DecisionTreeClassifier(ccp_alpha=0.00606540084...</td>\n",
       "      <td>0.006065</td>\n",
       "      <td>0.915612</td>\n",
       "      <td>0.800000</td>\n",
       "    </tr>\n",
       "    <tr>\n",
       "      <th>11</th>\n",
       "      <td>DecisionTreeClassifier(ccp_alpha=0.00664517699...</td>\n",
       "      <td>0.006645</td>\n",
       "      <td>0.907173</td>\n",
       "      <td>0.800000</td>\n",
       "    </tr>\n",
       "    <tr>\n",
       "      <th>12</th>\n",
       "      <td>DecisionTreeClassifier(ccp_alpha=0.00761837787...</td>\n",
       "      <td>0.007618</td>\n",
       "      <td>0.886076</td>\n",
       "      <td>0.783333</td>\n",
       "    </tr>\n",
       "    <tr>\n",
       "      <th>13</th>\n",
       "      <td>DecisionTreeClassifier(ccp_alpha=0.00766526019...</td>\n",
       "      <td>0.007665</td>\n",
       "      <td>0.877637</td>\n",
       "      <td>0.783333</td>\n",
       "    </tr>\n",
       "    <tr>\n",
       "      <th>14</th>\n",
       "      <td>DecisionTreeClassifier(ccp_alpha=0.00843881856...</td>\n",
       "      <td>0.008439</td>\n",
       "      <td>0.877637</td>\n",
       "      <td>0.783333</td>\n",
       "    </tr>\n",
       "    <tr>\n",
       "      <th>15</th>\n",
       "      <td>DecisionTreeClassifier(ccp_alpha=0.00889251848...</td>\n",
       "      <td>0.008893</td>\n",
       "      <td>0.877637</td>\n",
       "      <td>0.783333</td>\n",
       "    </tr>\n",
       "    <tr>\n",
       "      <th>16</th>\n",
       "      <td>DecisionTreeClassifier(ccp_alpha=0.00972473377...</td>\n",
       "      <td>0.009725</td>\n",
       "      <td>0.869198</td>\n",
       "      <td>0.783333</td>\n",
       "    </tr>\n",
       "    <tr>\n",
       "      <th>17</th>\n",
       "      <td>DecisionTreeClassifier(ccp_alpha=0.01350210970...</td>\n",
       "      <td>0.013502</td>\n",
       "      <td>0.852321</td>\n",
       "      <td>0.800000</td>\n",
       "    </tr>\n",
       "    <tr>\n",
       "      <th>18</th>\n",
       "      <td>DecisionTreeClassifier(ccp_alpha=0.01487035868...</td>\n",
       "      <td>0.014870</td>\n",
       "      <td>0.843882</td>\n",
       "      <td>0.800000</td>\n",
       "    </tr>\n",
       "    <tr>\n",
       "      <th>19</th>\n",
       "      <td>DecisionTreeClassifier(ccp_alpha=0.01593999062...</td>\n",
       "      <td>0.015940</td>\n",
       "      <td>0.810127</td>\n",
       "      <td>0.866667</td>\n",
       "    </tr>\n",
       "    <tr>\n",
       "      <th>20</th>\n",
       "      <td>DecisionTreeClassifier(ccp_alpha=0.02109704641...</td>\n",
       "      <td>0.021097</td>\n",
       "      <td>0.776371</td>\n",
       "      <td>0.866667</td>\n",
       "    </tr>\n",
       "    <tr>\n",
       "      <th>21</th>\n",
       "      <td>DecisionTreeClassifier(ccp_alpha=0.03586497890...</td>\n",
       "      <td>0.035865</td>\n",
       "      <td>0.776371</td>\n",
       "      <td>0.766667</td>\n",
       "    </tr>\n",
       "    <tr>\n",
       "      <th>22</th>\n",
       "      <td>DecisionTreeClassifier(ccp_alpha=0.04013550187...</td>\n",
       "      <td>0.040136</td>\n",
       "      <td>0.759494</td>\n",
       "      <td>0.683333</td>\n",
       "    </tr>\n",
       "    <tr>\n",
       "      <th>23</th>\n",
       "      <td>DecisionTreeClassifier(ccp_alpha=0.13456627743...</td>\n",
       "      <td>0.134566</td>\n",
       "      <td>0.523207</td>\n",
       "      <td>0.600000</td>\n",
       "    </tr>\n",
       "  </tbody>\n",
       "</table>\n",
       "</div>"
      ],
      "text/plain": [
       "                                                 tree     alpha  train_acc  \\\n",
       "0                            DecisionTreeClassifier()  0.000000   1.000000   \n",
       "1   DecisionTreeClassifier(ccp_alpha=0.00276605719...  0.002766   0.995781   \n",
       "2   DecisionTreeClassifier(ccp_alpha=0.00361663652...  0.003617   0.987342   \n",
       "3   DecisionTreeClassifier(ccp_alpha=0.00389483933...  0.003895   0.978903   \n",
       "4   DecisionTreeClassifier(ccp_alpha=0.00401751281...  0.004018   0.978903   \n",
       "5   DecisionTreeClassifier(ccp_alpha=0.00543834974...  0.005438   0.970464   \n",
       "6   DecisionTreeClassifier(ccp_alpha=0.00562587904...  0.005626   0.936709   \n",
       "7   DecisionTreeClassifier(ccp_alpha=0.00562587904...  0.005626   0.936709   \n",
       "8   DecisionTreeClassifier(ccp_alpha=0.00562587904...  0.005626   0.919831   \n",
       "9   DecisionTreeClassifier(ccp_alpha=0.00562587904...  0.005626   0.919831   \n",
       "10  DecisionTreeClassifier(ccp_alpha=0.00606540084...  0.006065   0.915612   \n",
       "11  DecisionTreeClassifier(ccp_alpha=0.00664517699...  0.006645   0.907173   \n",
       "12  DecisionTreeClassifier(ccp_alpha=0.00761837787...  0.007618   0.886076   \n",
       "13  DecisionTreeClassifier(ccp_alpha=0.00766526019...  0.007665   0.877637   \n",
       "14  DecisionTreeClassifier(ccp_alpha=0.00843881856...  0.008439   0.877637   \n",
       "15  DecisionTreeClassifier(ccp_alpha=0.00889251848...  0.008893   0.877637   \n",
       "16  DecisionTreeClassifier(ccp_alpha=0.00972473377...  0.009725   0.869198   \n",
       "17  DecisionTreeClassifier(ccp_alpha=0.01350210970...  0.013502   0.852321   \n",
       "18  DecisionTreeClassifier(ccp_alpha=0.01487035868...  0.014870   0.843882   \n",
       "19  DecisionTreeClassifier(ccp_alpha=0.01593999062...  0.015940   0.810127   \n",
       "20  DecisionTreeClassifier(ccp_alpha=0.02109704641...  0.021097   0.776371   \n",
       "21  DecisionTreeClassifier(ccp_alpha=0.03586497890...  0.035865   0.776371   \n",
       "22  DecisionTreeClassifier(ccp_alpha=0.04013550187...  0.040136   0.759494   \n",
       "23  DecisionTreeClassifier(ccp_alpha=0.13456627743...  0.134566   0.523207   \n",
       "\n",
       "    test_acc  \n",
       "0   0.816667  \n",
       "1   0.783333  \n",
       "2   0.766667  \n",
       "3   0.783333  \n",
       "4   0.833333  \n",
       "5   0.816667  \n",
       "6   0.816667  \n",
       "7   0.816667  \n",
       "8   0.800000  \n",
       "9   0.800000  \n",
       "10  0.800000  \n",
       "11  0.800000  \n",
       "12  0.783333  \n",
       "13  0.783333  \n",
       "14  0.783333  \n",
       "15  0.783333  \n",
       "16  0.783333  \n",
       "17  0.800000  \n",
       "18  0.800000  \n",
       "19  0.866667  \n",
       "20  0.866667  \n",
       "21  0.766667  \n",
       "22  0.683333  \n",
       "23  0.600000  "
      ]
     },
     "execution_count": 53,
     "metadata": {},
     "output_type": "execute_result"
    }
   ],
   "source": [
    "accuracy_history"
   ]
  },
  {
   "cell_type": "code",
   "execution_count": 47,
   "metadata": {},
   "outputs": [
    {
     "data": {
      "image/png": "[encoded data removed]",
      "text/plain": [
       "<Figure size 432x288 with 1 Axes>"
      ]
     },
     "metadata": {
      "needs_background": "light"
     },
     "output_type": "display_data"
    }
   ],
   "source": [
    "plt.plot(accuracy_history.alpha,accuracy_history.train_acc)\n",
    "plt.plot(accuracy_history.alpha, accuracy_history.test_acc)\n",
    "plt.legend(['train', 'test'])\n",
    "plt.show()"
   ]
  },
  {
   "cell_type": "markdown",
   "metadata": {},
   "source": [
    "> As can be seen in the above plot, for $\\alpha \\in [0.02, 0.03]$ we get the maximum test accuracy. Although our train accuracy has decreased to 0.8, the tree is now more generalized and it performs better on unseen test data."
   ]
  },
  {
   "cell_type": "code",
   "execution_count": 54,
   "metadata": {},
   "outputs": [
    {
     "name": "stdout",
     "output_type": "stream",
     "text": [
      "Accuracy on test data: 0.8666666666666667\n",
      "Accuracy on train data: 0.810126582278481\n"
     ]
    }
   ],
   "source": [
    "best = accuracy_history.iloc[accuracy_history.test_acc.argmax(),:]\n",
    "\n",
    "print(f'Accuracy on test data: {best.test_acc}')\n",
    "print(f'Accuracy on train data: {best.train_acc}')"
   ]
  },
  {
   "cell_type": "code",
   "execution_count": 169,
   "metadata": {},
   "outputs": [
    {
     "ename": "NameError",
     "evalue": "name 'best' is not defined",
     "output_type": "error",
     "traceback": [
      "\u001b[1;31m---------------------------------------------------------------------------\u001b[0m",
      "\u001b[1;31mNameError\u001b[0m                                 Traceback (most recent call last)",
      "\u001b[1;32m<ipython-input-169-08897fe73337>\u001b[0m in \u001b[0;36m<module>\u001b[1;34m\u001b[0m\n\u001b[1;32m----> 1\u001b[1;33m \u001b[0mplot_confusion_matrix\u001b[0m\u001b[1;33m(\u001b[0m\u001b[0mbest\u001b[0m\u001b[1;33m.\u001b[0m\u001b[0mtree\u001b[0m\u001b[1;33m,\u001b[0m \u001b[0mX_test\u001b[0m\u001b[1;33m,\u001b[0m\u001b[0my_test\u001b[0m\u001b[1;33m)\u001b[0m\u001b[1;33m\u001b[0m\u001b[1;33m\u001b[0m\u001b[0m\n\u001b[0m\u001b[0;32m      2\u001b[0m \u001b[0mplt\u001b[0m\u001b[1;33m.\u001b[0m\u001b[0mtitle\u001b[0m\u001b[1;33m(\u001b[0m\u001b[1;34m'Decision Tree'\u001b[0m\u001b[1;33m)\u001b[0m\u001b[1;33m\u001b[0m\u001b[1;33m\u001b[0m\u001b[0m\n\u001b[0;32m      3\u001b[0m \u001b[0mplt\u001b[0m\u001b[1;33m.\u001b[0m\u001b[0mshow\u001b[0m\u001b[1;33m(\u001b[0m\u001b[1;33m)\u001b[0m\u001b[1;33m\u001b[0m\u001b[1;33m\u001b[0m\u001b[0m\n",
      "\u001b[1;31mNameError\u001b[0m: name 'best' is not defined"
     ]
    }
   ],
   "source": [
    "plot_confusion_matrix(best.tree, X_test,y_test)\n",
    "plt.title('Decision Tree')\n",
    "plt.show()"
   ]
  },
  {
   "cell_type": "markdown",
   "metadata": {},
   "source": [
    "# Random Forest"
   ]
  },
  {
   "cell_type": "code",
   "execution_count": 165,
   "metadata": {},
   "outputs": [],
   "source": [
    "from sklearn.ensemble import RandomForestClassifier"
   ]
  },
  {
   "cell_type": "code",
   "execution_count": 187,
   "metadata": {},
   "outputs": [],
   "source": [
    "rcf = RandomForestClassifier(random_state=1)\n",
    "grid= GridSearchCV(rfc,{'criterion':['gini', 'entropy'],'n_estimators': range(50, 401, 50)}, verbose=True, cv =5, n_jobs=-1)"
   ]
  },
  {
   "cell_type": "code",
   "execution_count": 168,
   "metadata": {},
   "outputs": [
    {
     "name": "stdout",
     "output_type": "stream",
     "text": [
      "Fitting 5 folds for each of 16 candidates, totalling 80 fits\n"
     ]
    },
    {
     "name": "stderr",
     "output_type": "stream",
     "text": [
      "[Parallel(n_jobs=-1)]: Using backend LokyBackend with 8 concurrent workers.\n",
      "[Parallel(n_jobs=-1)]: Done  34 tasks      | elapsed:    4.4s\n",
      "[Parallel(n_jobs=-1)]: Done  80 out of  80 | elapsed:    7.1s finished\n"
     ]
    },
    {
     "data": {
      "text/plain": [
       "GridSearchCV(cv=5,\n",
       "             estimator=RandomForestClassifier(criterion='entropy',\n",
       "                                              random_state=1),\n",
       "             n_jobs=-1,\n",
       "             param_grid={'criterion': ['gini', 'entropy'],\n",
       "                         'n_estimators': range(50, 401, 50)},\n",
       "             verbose=True)"
      ]
     },
     "execution_count": 168,
     "metadata": {},
     "output_type": "execute_result"
    }
   ],
   "source": [
    "grid.fit(X_train, y_train)"
   ]
  },
  {
   "cell_type": "code",
   "execution_count": 135,
   "metadata": {},
   "outputs": [
    {
     "data": {
      "text/plain": [
       "{'criterion': 'entropy', 'n_estimators': 300}"
      ]
     },
     "execution_count": 135,
     "metadata": {},
     "output_type": "execute_result"
    }
   ],
   "source": [
    "grid.best_params_"
   ]
  },
  {
   "cell_type": "code",
   "execution_count": 136,
   "metadata": {},
   "outputs": [
    {
     "data": {
      "image/png": "[encoded data removed]",
      "text/plain": [
       "<Figure size 432x288 with 2 Axes>"
      ]
     },
     "metadata": {
      "needs_background": "light"
     },
     "output_type": "display_data"
    }
   ],
   "source": [
    "plot_confusion_matrix(grid.best_estimator_, X_test,y_test)\n",
    "plt.title([''])\n",
    "plt.show()"
   ]
  },
  {
   "cell_type": "code",
   "execution_count": 152,
   "metadata": {},
   "outputs": [
    {
     "data": {
      "image/png": "[encoded data removed]",
      "text/plain": [
       "<Figure size 432x288 with 1 Axes>"
      ]
     },
     "metadata": {
      "needs_background": "light"
     },
     "output_type": "display_data"
    }
   ],
   "source": [
    "plt.bar(range(len( grid.cv_results_['mean_test_score'])), grid.cv_results_['mean_test_score'])\n",
    "plt.show()"
   ]
  },
  {
   "cell_type": "code",
   "execution_count": 153,
   "metadata": {},
   "outputs": [
    {
     "data": {
      "image/png": "[encoded data removed]",
      "text/plain": [
       "<Figure size 432x288 with 1 Axes>"
      ]
     },
     "metadata": {
      "needs_background": "light"
     },
     "output_type": "display_data"
    }
   ],
   "source": [
    "plt.bar(range(len(grid.best_estimator_.feature_importances_)) , grid.best_estimator_.feature_importances_)\n",
    "plt.xticks(range(len(grid.best_estimator_.feature_importances_)), df.columns[:-1] , rotation = 45)\n",
    "plt.title('Feature Importance')\n",
    "plt.show()"
   ]
  },
  {
   "cell_type": "code",
   "execution_count": 157,
   "metadata": {},
   "outputs": [
    {
     "name": "stdout",
     "output_type": "stream",
     "text": [
      "Random Forest Performance\n",
      "Accuracy on test data: 0.88\n",
      "Accuracy on train data: 1.00\n"
     ]
    }
   ],
   "source": [
    "train_acc = accuracy_score(y_train, grid.predict(X_train))\n",
    "test_acc = accuracy_score(y_test, grid.predict(X_test))\n",
    "\n",
    "print('Random Forest Performance')\n",
    "print(f'Accuracy on test data: {test_acc:.2f}')\n",
    "print(f'Accuracy on train data: {train_acc:.2f}')"
   ]
  },
  {
   "cell_type": "code",
   "execution_count": null,
   "metadata": {},
   "outputs": [],
   "source": []
  }
 ],
 "metadata": {
  "kernelspec": {
   "display_name": "Python 3",
   "language": "python",
   "name": "python3"
  },
  "language_info": {
   "codemirror_mode": {
    "name": "ipython",
    "version": 3
   },
   "file_extension": ".py",
   "mimetype": "text/x-python",
   "name": "python",
   "nbconvert_exporter": "python",
   "pygments_lexer": "ipython3",
   "version": "3.8.5"
  }
 },
 "nbformat": 4,
 "nbformat_minor": 4
}
